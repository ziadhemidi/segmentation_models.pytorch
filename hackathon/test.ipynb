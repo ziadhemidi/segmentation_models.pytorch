{
 "cells": [
  {
   "cell_type": "code",
   "execution_count": 10,
   "metadata": {},
   "outputs": [
    {
     "name": "stdout",
     "output_type": "stream",
     "text": [
      "--2023-04-11 11:50:34--  https://cloud.imi.uni-luebeck.de/s/LE3yDjaCWKQ8xjy/download\n",
      "Resolving cloud.imi.uni-luebeck.de (cloud.imi.uni-luebeck.de)... 141.83.20.118\n",
      "Connecting to cloud.imi.uni-luebeck.de (cloud.imi.uni-luebeck.de)|141.83.20.118|:443... connected.\n",
      "HTTP request sent, awaiting response... 200 OK\n",
      "Length: 10416846279 (9.7G) [application/zip]\n",
      "Saving to: ‘download’\n",
      "\n",
      "download            100%[===================>]   9.70G   154MB/s    in 88s     \n",
      "\n",
      "2023-04-11 11:52:03 (113 MB/s) - ‘download’ saved [10416846279/10416846279]\n",
      "\n"
     ]
    }
   ],
   "source": [
    "import torch\n",
    "import zipfile36 as zipfile\n",
    "#read data from given file\n",
    "!wget \"https://cloud.imi.uni-luebeck.de/s/LE3yDjaCWKQ8xjy/download\" -O hackathon_mmwhs.zip\n",
    "\n",
    "\n",
    "# with zipfile.ZipFile('hackathon_mmwhs.zip', 'r') as zip_ref:\n",
    "#     zip_ref.extractall('./')\n",
    "# zfile = zipfile.ZipFile('hackathon_mmwhs.zip')\n",
    "# zfile.extractall('./hackathon_mmwhs/')\n",
    "# zfile.close()\n",
    "#print(data.keys())\n",
    "#data = torch.load('hackathon_mmwhs.zip')\n",
    "#img_train = data['img_train']\n",
    "\n",
    "# #show one of the images \n",
    "# i = 4\n",
    "# plt.imshow(torch.clamp(img_train[i,0,:,:],-200,1200),'gray')\n",
    "# plt.plot(coordinates_train[i,:,0,0].numpy(),coordinates_train[i,:,0,1].numpy(),'r+',linewidth=3, markersize=12)\n",
    "# plt.show()"
   ]
  },
  {
   "cell_type": "code",
   "execution_count": 12,
   "metadata": {},
   "outputs": [
    {
     "ename": "NotADirectoryError",
     "evalue": "[Errno 20] Not a directory: 'download/hackathon_mmwhs'",
     "output_type": "error",
     "traceback": [
      "\u001b[0;31m---------------------------------------------------------------------------\u001b[0m",
      "\u001b[0;31mNotADirectoryError\u001b[0m                        Traceback (most recent call last)",
      "Cell \u001b[0;32mIn[12], line 2\u001b[0m\n\u001b[1;32m      1\u001b[0m zfile \u001b[39m=\u001b[39m zipfile\u001b[39m.\u001b[39mZipFile(\u001b[39m'\u001b[39m\u001b[39mdownload\u001b[39m\u001b[39m'\u001b[39m)\n\u001b[0;32m----> 2\u001b[0m zfile\u001b[39m.\u001b[39;49mextractall(\u001b[39m'\u001b[39;49m\u001b[39mdownload\u001b[39;49m\u001b[39m'\u001b[39;49m)\n\u001b[1;32m      3\u001b[0m zfile\u001b[39m.\u001b[39mclose()\n",
      "File \u001b[0;32m/shared/team2/segmentation_models.pytorch/.venv/lib/python3.9/site-packages/zipfile36.py:1490\u001b[0m, in \u001b[0;36mZipFile.extractall\u001b[0;34m(self, path, members, pwd)\u001b[0m\n\u001b[1;32m   1487\u001b[0m     members \u001b[39m=\u001b[39m \u001b[39mself\u001b[39m\u001b[39m.\u001b[39mnamelist()\n\u001b[1;32m   1489\u001b[0m \u001b[39mfor\u001b[39;00m zipinfo \u001b[39min\u001b[39;00m members:\n\u001b[0;32m-> 1490\u001b[0m     \u001b[39mself\u001b[39;49m\u001b[39m.\u001b[39;49mextract(zipinfo, path, pwd)\n",
      "File \u001b[0;32m/shared/team2/segmentation_models.pytorch/.venv/lib/python3.9/site-packages/zipfile36.py:1478\u001b[0m, in \u001b[0;36mZipFile.extract\u001b[0;34m(self, member, path, pwd)\u001b[0m\n\u001b[1;32m   1475\u001b[0m \u001b[39mif\u001b[39;00m path \u001b[39mis\u001b[39;00m \u001b[39mNone\u001b[39;00m:\n\u001b[1;32m   1476\u001b[0m     path \u001b[39m=\u001b[39m os\u001b[39m.\u001b[39mgetcwd()\n\u001b[0;32m-> 1478\u001b[0m \u001b[39mreturn\u001b[39;00m \u001b[39mself\u001b[39;49m\u001b[39m.\u001b[39;49m_extract_member(member, path, pwd)\n",
      "File \u001b[0;32m/shared/team2/segmentation_models.pytorch/.venv/lib/python3.9/site-packages/zipfile36.py:1537\u001b[0m, in \u001b[0;36mZipFile._extract_member\u001b[0;34m(self, member, targetpath, pwd)\u001b[0m\n\u001b[1;32m   1535\u001b[0m \u001b[39mif\u001b[39;00m member\u001b[39m.\u001b[39mis_dir():\n\u001b[1;32m   1536\u001b[0m     \u001b[39mif\u001b[39;00m \u001b[39mnot\u001b[39;00m os\u001b[39m.\u001b[39mpath\u001b[39m.\u001b[39misdir(targetpath):\n\u001b[0;32m-> 1537\u001b[0m         os\u001b[39m.\u001b[39;49mmkdir(targetpath)\n\u001b[1;32m   1538\u001b[0m     \u001b[39mreturn\u001b[39;00m targetpath\n\u001b[1;32m   1540\u001b[0m \u001b[39mwith\u001b[39;00m \u001b[39mself\u001b[39m\u001b[39m.\u001b[39mopen(member, pwd\u001b[39m=\u001b[39mpwd) \u001b[39mas\u001b[39;00m source, \\\n\u001b[1;32m   1541\u001b[0m      \u001b[39mopen\u001b[39m(targetpath, \u001b[39m\"\u001b[39m\u001b[39mwb\u001b[39m\u001b[39m\"\u001b[39m) \u001b[39mas\u001b[39;00m target:\n",
      "\u001b[0;31mNotADirectoryError\u001b[0m: [Errno 20] Not a directory: 'download/hackathon_mmwhs'"
     ]
    }
   ],
   "source": [
    "zfile = zipfile.ZipFile('download')\n",
    "zfile.extractall('download')\n",
    "zfile.close()"
   ]
  }
 ],
 "metadata": {
  "kernelspec": {
   "display_name": ".venv",
   "language": "python",
   "name": "python3"
  },
  "language_info": {
   "codemirror_mode": {
    "name": "ipython",
    "version": 3
   },
   "file_extension": ".py",
   "mimetype": "text/x-python",
   "name": "python",
   "nbconvert_exporter": "python",
   "pygments_lexer": "ipython3",
   "version": "3.9.16"
  },
  "orig_nbformat": 4
 },
 "nbformat": 4,
 "nbformat_minor": 2
}
